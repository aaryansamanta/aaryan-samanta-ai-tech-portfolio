{
  "nbformat": 4,
  "nbformat_minor": 0,
  "metadata": {
    "colab": {
      "provenance": []
    },
    "kernelspec": {
      "name": "python3",
      "display_name": "Python 3"
    },
    "language_info": {
      "name": "python"
    }
  },
  "cells": [
    {
      "cell_type": "markdown",
      "source": [
        "\n",
        "**Author**: Aaryan Samanta\n",
        "\n",
        "**Organization**: Legend College Preparatory\n",
        "\n",
        "**Date**: 2025\n",
        "\n",
        "**Title**: Breast Cancer dataset Dataset - Supervised Learning\n",
        "\n",
        "**Version**: 1.0\n",
        "\n",
        "**Type**: Source Code\n",
        "\n",
        "**Adaptation details**: Based on classroom exercises\n",
        "\n",
        "**Description**: Understand how a logistic regression model works and how to evaluate its performance on a real dataset.\n",
        "\n",
        "\n",
        "\n",
        "---\n",
        "\n",
        "\n",
        "Developed as part of the AI Internship at Legend College Preparatory.\n",
        "Please note that it is a violation of school policy to copy and use this code without proper attribution and credit acknowledgement.\n",
        "Failing to do so can constitute plagiarism, even with small code snippets."
      ],
      "metadata": {
        "id": "oNqXOtFsudoL"
      }
    },
    {
      "cell_type": "code",
      "execution_count": null,
      "metadata": {
        "colab": {
          "base_uri": "https://localhost:8080/"
        },
        "id": "pp0SsbKGqeZW",
        "outputId": "3a08cd08-fad1-41bd-9cf7-092d8204119e"
      },
      "outputs": [
        {
          "output_type": "stream",
          "name": "stdout",
          "text": [
            "📊 Breast Cancer Dataset Preview:\n",
            "   mean radius  mean texture  mean perimeter  mean area  mean smoothness  \\\n",
            "0        17.99         10.38          122.80     1001.0          0.11840   \n",
            "1        20.57         17.77          132.90     1326.0          0.08474   \n",
            "2        19.69         21.25          130.00     1203.0          0.10960   \n",
            "3        11.42         20.38           77.58      386.1          0.14250   \n",
            "4        20.29         14.34          135.10     1297.0          0.10030   \n",
            "\n",
            "   mean compactness  mean concavity  mean concave points  mean symmetry  \\\n",
            "0           0.27760          0.3001              0.14710         0.2419   \n",
            "1           0.07864          0.0869              0.07017         0.1812   \n",
            "2           0.15990          0.1974              0.12790         0.2069   \n",
            "3           0.28390          0.2414              0.10520         0.2597   \n",
            "4           0.13280          0.1980              0.10430         0.1809   \n",
            "\n",
            "   mean fractal dimension  ...  worst perimeter  worst area  worst smoothness  \\\n",
            "0                 0.07871  ...           184.60      2019.0            0.1622   \n",
            "1                 0.05667  ...           158.80      1956.0            0.1238   \n",
            "2                 0.05999  ...           152.50      1709.0            0.1444   \n",
            "3                 0.09744  ...            98.87       567.7            0.2098   \n",
            "4                 0.05883  ...           152.20      1575.0            0.1374   \n",
            "\n",
            "   worst compactness  worst concavity  worst concave points  worst symmetry  \\\n",
            "0             0.6656           0.7119                0.2654          0.4601   \n",
            "1             0.1866           0.2416                0.1860          0.2750   \n",
            "2             0.4245           0.4504                0.2430          0.3613   \n",
            "3             0.8663           0.6869                0.2575          0.6638   \n",
            "4             0.2050           0.4000                0.1625          0.2364   \n",
            "\n",
            "   worst fractal dimension  target  target_name  \n",
            "0                  0.11890       0    malignant  \n",
            "1                  0.08902       0    malignant  \n",
            "2                  0.08758       0    malignant  \n",
            "3                  0.17300       0    malignant  \n",
            "4                  0.07678       0    malignant  \n",
            "\n",
            "[5 rows x 32 columns]\n",
            "\n",
            "✅ Model Accuracy: 95.61%\n",
            "\n",
            "📄 Classification Report:\n",
            "              precision    recall  f1-score   support\n",
            "\n",
            "   malignant       0.97      0.91      0.94        43\n",
            "      benign       0.95      0.99      0.97        71\n",
            "\n",
            "    accuracy                           0.96       114\n",
            "   macro avg       0.96      0.95      0.95       114\n",
            "weighted avg       0.96      0.96      0.96       114\n",
            "\n",
            "\n",
            "🔍 Predicted class for the new sample: malignant\n"
          ]
        }
      ],
      "source": [
        "import pandas as pd\n",
        "from sklearn.datasets import load_breast_cancer\n",
        "from sklearn.model_selection import train_test_split\n",
        "from sklearn.linear_model import LogisticRegression\n",
        "from sklearn.metrics import accuracy_score, classification_report\n",
        "\n",
        "# 1. Load the Breast Cancer dataset\n",
        "data = load_breast_cancer()\n",
        "\n",
        "# 2. Convert to DataFrame and preview it\n",
        "df = pd.DataFrame(data.data, columns=data.feature_names)\n",
        "df['target'] = data.target\n",
        "df['target_name'] = df['target'].apply(lambda x: data.target_names[x])\n",
        "\n",
        "# 👉 Display the first 5 rows of the dataset\n",
        "print(\"📊 Breast Cancer Dataset Preview:\")\n",
        "print(df.head())\n",
        "\n",
        "# 3. Prepare features and labels\n",
        "X = data.data\n",
        "y = data.target\n",
        "\n",
        "# 4. Split the dataset into training and test sets\n",
        "X_train, X_test, y_train, y_test = train_test_split(X, y, test_size=0.2, random_state=42)\n",
        "\n",
        "# 5. Initialize and train the Logistic Regression model\n",
        "model = LogisticRegression(max_iter=10000)\n",
        "model.fit(X_train, y_train)\n",
        "\n",
        "# 6. Make predictions on the test data\n",
        "y_pred = model.predict(X_test)\n",
        "\n",
        "# 7. Evaluate the model\n",
        "accuracy = accuracy_score(y_test, y_pred)\n",
        "print(f\"\\n✅ Model Accuracy: {accuracy * 100:.2f}%\")\n",
        "print(\"\\n📄 Classification Report:\")\n",
        "print(classification_report(y_test, y_pred, target_names=data.target_names))\n",
        "\n",
        "# 8. Bonus: Predict on a new sample\n",
        "sample = [X[0]]  # Using first sample as an example\n",
        "predicted_class = model.predict(sample)\n",
        "print(f\"\\n🔍 Predicted class for the new sample: {data.target_names[predicted_class[0]]}\")\n",
        "\n"
      ]
    }
  ]
}