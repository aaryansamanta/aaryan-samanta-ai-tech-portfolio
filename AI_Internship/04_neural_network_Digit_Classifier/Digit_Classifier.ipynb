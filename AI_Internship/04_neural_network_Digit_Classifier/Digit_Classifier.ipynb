{
  "nbformat": 4,
  "nbformat_minor": 0,
  "metadata": {
    "colab": {
      "provenance": []
    },
    "kernelspec": {
      "name": "python3",
      "display_name": "Python 3"
    },
    "language_info": {
      "name": "python"
    }
  },
  "cells": [
    {
      "cell_type": "markdown",
      "source": [
        "\n",
        "**Author**: Aaryan Samanta\n",
        "\n",
        "**Organization**: Legend College Preparatory\n",
        "\n",
        "**Date**: 2025\n",
        "\n",
        "**Title**: Digit Classifier - Neural Network\n",
        "\n",
        "**Version**: 1.0\n",
        "\n",
        "**Type**: Source Code\n",
        "\n",
        "**Adaptation details**: Based on classroom exercises\n",
        "\n",
        "**Description**: Understand how neural networks work by building a simple model that recognizes handwritten digits (0 through 9) using Python and Keras.\n",
        "\n",
        "\n",
        "\n",
        "---\n",
        "\n",
        "\n",
        "Developed as part of the AI Internship at Legend College Preparatory.\n",
        "Please note that it is a violation of school policy to copy and use this code without proper attribution and credit acknowledgement.\n",
        "Failing to do so can constitute plagiarism, even with small code snippets."
      ],
      "metadata": {
        "id": "Mmq2Zjgpw3yO"
      }
    },
    {
      "cell_type": "code",
      "execution_count": null,
      "metadata": {
        "colab": {
          "base_uri": "https://localhost:8080/"
        },
        "id": "14XCbnJwVX62",
        "outputId": "265fa05e-3c85-45fb-c9af-0be40281a5d0"
      },
      "outputs": [
        {
          "output_type": "stream",
          "name": "stdout",
          "text": [
            "Epoch 1/5\n",
            "\u001b[1m1875/1875\u001b[0m \u001b[32m━━━━━━━━━━━━━━━━━━━━\u001b[0m\u001b[37m\u001b[0m \u001b[1m6s\u001b[0m 3ms/step - accuracy: 0.8756 - loss: 0.4360\n",
            "Epoch 2/5\n",
            "\u001b[1m1875/1875\u001b[0m \u001b[32m━━━━━━━━━━━━━━━━━━━━\u001b[0m\u001b[37m\u001b[0m \u001b[1m10s\u001b[0m 3ms/step - accuracy: 0.9649 - loss: 0.1266\n",
            "Epoch 3/5\n",
            "\u001b[1m1875/1875\u001b[0m \u001b[32m━━━━━━━━━━━━━━━━━━━━\u001b[0m\u001b[37m\u001b[0m \u001b[1m10s\u001b[0m 3ms/step - accuracy: 0.9770 - loss: 0.0780\n",
            "Epoch 4/5\n",
            "\u001b[1m1875/1875\u001b[0m \u001b[32m━━━━━━━━━━━━━━━━━━━━\u001b[0m\u001b[37m\u001b[0m \u001b[1m7s\u001b[0m 4ms/step - accuracy: 0.9830 - loss: 0.0560\n",
            "Epoch 5/5\n",
            "\u001b[1m1875/1875\u001b[0m \u001b[32m━━━━━━━━━━━━━━━━━━━━\u001b[0m\u001b[37m\u001b[0m \u001b[1m6s\u001b[0m 3ms/step - accuracy: 0.9869 - loss: 0.0435\n",
            "\u001b[1m313/313\u001b[0m \u001b[32m━━━━━━━━━━━━━━━━━━━━\u001b[0m\u001b[37m\u001b[0m \u001b[1m1s\u001b[0m 2ms/step - accuracy: 0.9759 - loss: 0.0794\n",
            "Test accuracy: 0.98\n",
            "\u001b[1m313/313\u001b[0m \u001b[32m━━━━━━━━━━━━━━━━━━━━\u001b[0m\u001b[37m\u001b[0m \u001b[1m1s\u001b[0m 1ms/step\n",
            "Predicted label: 7\n"
          ]
        }
      ],
      "source": [
        "import tensorflow as tf\n",
        "from tensorflow.keras.datasets import mnist\n",
        "\n",
        "# Load the dataset\n",
        "(x_train, y_train), (x_test, y_test) = mnist.load_data()\n",
        "\n",
        "# Normalize pixel values\n",
        "x_train = x_train / 255.0\n",
        "x_test = x_test / 255.0\n",
        "\n",
        "from tensorflow.keras.models import Sequential\n",
        "from tensorflow.keras.layers import Flatten, Dense\n",
        "\n",
        "# Build a simple model\n",
        "model = Sequential([\n",
        "    Flatten(input_shape=(28, 28)),     # Convert 2D to 1D\n",
        "    Dense(128, activation='relu'),     # Hidden layer\n",
        "    Dense(10, activation='softmax')    # Output layer (10 classes)\n",
        "])\n",
        "\n",
        "model.compile(optimizer='adam',\n",
        "              loss='sparse_categorical_crossentropy',\n",
        "              metrics=['accuracy'])\n",
        "\n",
        "model.fit(x_train, y_train, epochs=5)\n",
        "\n",
        "test_loss, test_acc = model.evaluate(x_test, y_test)\n",
        "print(f'Test accuracy: {test_acc:.2f}')\n",
        "\n",
        "predictions = model.predict(x_test)\n",
        "\n",
        "# Predict the first image\n",
        "import numpy as np\n",
        "print(f'Predicted label: {np.argmax(predictions[0])}')"
      ]
    }
  ]
}