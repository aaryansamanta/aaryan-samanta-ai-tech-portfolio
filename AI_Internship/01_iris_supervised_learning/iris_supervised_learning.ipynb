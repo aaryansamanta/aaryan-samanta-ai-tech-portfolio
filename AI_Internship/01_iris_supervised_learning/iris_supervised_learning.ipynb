{
  "nbformat": 4,
  "nbformat_minor": 0,
  "metadata": {
    "colab": {
      "provenance": []
    },
    "kernelspec": {
      "name": "python3",
      "display_name": "Python 3"
    },
    "language_info": {
      "name": "python"
    }
  },
  "cells": [
    {
      "cell_type": "markdown",
      "source": [
        "\n",
        "**Author**: Aaryan Samanta\n",
        "\n",
        "**Organization**: Legend College Preparatory\n",
        "\n",
        "**Date**: 2025\n",
        "\n",
        "**Title**: Iris Dataset - Supervised Learning\n",
        "\n",
        "**Version**: 1.0\n",
        "\n",
        "**Type**: Source Code\n",
        "\n",
        "**Adaptation details**: Based on classroom exercises\n",
        "\n",
        "**Description**: Learn how a machine learning model can be trained to classify flowers using labeled data.\n",
        "\n",
        "\n",
        "\n",
        "---\n",
        "\n",
        "\n",
        "Developed as part of the AI Internship at Legend College Preparatory.\n",
        "Please note that it is a violation of school policy to copy and use this code without proper attribution and credit acknowledgement.\n",
        "Failing to do so can constitute plagiarism, even with small code snippets."
      ],
      "metadata": {
        "id": "alG89cZkZ4pQ"
      }
    },
    {
      "cell_type": "code",
      "execution_count": null,
      "metadata": {
        "colab": {
          "base_uri": "https://localhost:8080/"
        },
        "id": "pdYKnJxmPyHQ",
        "outputId": "f9ee6aed-6bdc-4953-9937-f20f508267b6"
      },
      "outputs": [
        {
          "output_type": "stream",
          "name": "stdout",
          "text": [
            "📊 Iris Dataset Preview:\n",
            "   sepal length (cm)  sepal width (cm)  petal length (cm)  petal width (cm)  \\\n",
            "0                5.1               3.5                1.4               0.2   \n",
            "1                4.9               3.0                1.4               0.2   \n",
            "2                4.7               3.2                1.3               0.2   \n",
            "3                4.6               3.1                1.5               0.2   \n",
            "4                5.0               3.6                1.4               0.2   \n",
            "\n",
            "   target target_name  \n",
            "0       0      setosa  \n",
            "1       0      setosa  \n",
            "2       0      setosa  \n",
            "3       0      setosa  \n",
            "4       0      setosa  \n",
            "\n",
            "✅ Model Accuracy: 100.00%\n",
            "🌸 Predicted class for the sample: setosa\n"
          ]
        }
      ],
      "source": [
        "#https://scikit-learn.org/1.4/auto_examples/datasets/plot_iris_dataset.html\n",
        "\n",
        "import pandas as pd\n",
        "from sklearn.datasets import load_iris\n",
        "from sklearn.model_selection import train_test_split\n",
        "from sklearn.neighbors import KNeighborsClassifier\n",
        "from sklearn.metrics import accuracy_score\n",
        "\n",
        "# 1. Load the Iris dataset\n",
        "iris = load_iris()\n",
        "\n",
        "# 2. Convert to DataFrame and preview it\n",
        "df = pd.DataFrame(data=iris.data, columns=iris.feature_names)\n",
        "df['target'] = iris.target\n",
        "df['target_name'] = df['target'].apply(lambda x: iris.target_names[x])\n",
        "\n",
        "# 👉 Display the first 5 rows of the dataset\n",
        "print(\"📊 Iris Dataset Preview:\")\n",
        "df_head_5 = df.head(5)\n",
        "print(df_head_5)\n",
        "\n",
        "# 3. Prepare features and labels\n",
        "X = iris.data\n",
        "y = iris.target\n",
        "\n",
        "# 4. Split the dataset into training and test sets (80% train, 20% test)\n",
        "X_train, X_test, y_train, y_test = train_test_split(X, y, test_size=0.2, random_state=42)\n",
        "\n",
        "# 5. Initialize the KNN model with k=3\n",
        "model = KNeighborsClassifier(n_neighbors=3)\n",
        "\n",
        "# 6. Train the model\n",
        "model.fit(X_train, y_train)\n",
        "\n",
        "# 7. Make predictions on the test data\n",
        "y_pred = model.predict(X_test)\n",
        "\n",
        "# 8. Evaluate the model\n",
        "accuracy = accuracy_score(y_true=y_test, y_pred=y_pred)\n",
        "print(f\"\\n✅ Model Accuracy: {accuracy * 100:.2f}%\")\n",
        "\n",
        "# 9. Predict the class of a new flower sample\n",
        "sample = [[5.1, 3.5, 1.4, 0.2]]  # Example input\n",
        "predicted_class = model.predict(sample)\n",
        "print(f\"🌸 Predicted class for the sample: {iris.target_names[predicted_class[0]]}\")\n",
        "\n"
      ]
    }
  ]
}