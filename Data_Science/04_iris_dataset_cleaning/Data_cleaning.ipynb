{
  "nbformat": 4,
  "nbformat_minor": 0,
  "metadata": {
    "colab": {
      "provenance": []
    },
    "kernelspec": {
      "name": "python3",
      "display_name": "Python 3"
    },
    "language_info": {
      "name": "python"
    }
  },
  "cells": [
    {
      "cell_type": "markdown",
      "source": [
        "\n",
        "**Author**: Aaryan Samanta\n",
        "\n",
        "**Organization**: Legend College Preparatory\n",
        "\n",
        "**Date**: 2025\n",
        "\n",
        "**Title**: Iris Dataset - Data Processing\n",
        "\n",
        "**Version**: 1.0\n",
        "\n",
        "**Type**: Source Code\n",
        "\n",
        "**Adaptation details**: Based on classroom exercises\n",
        "\n",
        "**Description**: The goal of this exercise is to help students learn how to clean and preprocess datasets using Python.\n",
        "\n",
        "\n",
        "\n",
        "---\n",
        "\n",
        "\n",
        "Developed as part of the AI Internship at Legend College Preparatory.\n",
        "Please note that it is a violation of school policy to copy and use this code without proper attribution and credit acknowledgement.\n",
        "Failing to do so can constitute plagiarism, even with small code snippets."
      ],
      "metadata": {
        "id": "MCo6W4Wk9QNh"
      }
    },
    {
      "cell_type": "code",
      "execution_count": null,
      "metadata": {
        "colab": {
          "base_uri": "https://localhost:8080/"
        },
        "id": "VZ8VQonOVGS9",
        "outputId": "ee09672c-4227-468b-89e5-65ffcc8fa71c"
      },
      "outputs": [
        {
          "output_type": "stream",
          "name": "stdout",
          "text": [
            "Missing data in each column:\n",
            "sepal_length    0\n",
            "sepal_width     0\n",
            "petal_length    0\n",
            "petal_width     0\n",
            "species         0\n",
            "dtype: int64\n",
            "\n",
            "Rows where sepal_length > 5:\n",
            "     sepal_length  sepal_width  petal_length  petal_width         species\n",
            "0             5.1          3.5           1.4          0.2     Iris-setosa\n",
            "5             5.4          3.9           1.7          0.4     Iris-setosa\n",
            "10            5.4          3.7           1.5          0.2     Iris-setosa\n",
            "14            5.8          4.0           1.2          0.2     Iris-setosa\n",
            "15            5.7          4.4           1.5          0.4     Iris-setosa\n",
            "..            ...          ...           ...          ...             ...\n",
            "145           6.7          3.0           5.2          2.3  Iris-virginica\n",
            "146           6.3          2.5           5.0          1.9  Iris-virginica\n",
            "147           6.5          3.0           5.2          2.0  Iris-virginica\n",
            "148           6.2          3.4           5.4          2.3  Iris-virginica\n",
            "149           5.9          3.0           5.1          1.8  Iris-virginica\n",
            "\n",
            "[118 rows x 5 columns]\n",
            "\n",
            "Cleaned dataset preview:\n",
            "   Sepal Length (cm)  sepal_width  petal_length  petal_width Flower Species\n",
            "0                5.1          3.5           1.4          0.2    Iris-setosa\n",
            "1                4.9          3.0           1.4          0.2    Iris-setosa\n",
            "2                4.7          3.2           1.3          0.2    Iris-setosa\n",
            "3                4.6          3.1           1.5          0.2    Iris-setosa\n",
            "4                5.0          3.6           1.4          0.2    Iris-setosa\n",
            "\n",
            "The dataset has 150 rows and 5 columns.\n",
            "\n",
            "Column names: ['Sepal Length (cm)', 'sepal_width', 'petal_length', 'petal_width', 'Flower Species']\n",
            "\n",
            "Number of rows with Sepal Length > 5: 118\n"
          ]
        }
      ],
      "source": [
        "import pandas as pd\n",
        "\n",
        "url = \"https://archive.ics.uci.edu/ml/machine-learning-databases/iris/iris.data\"\n",
        "columns = [\"sepal_length\", \"sepal_width\", \"petal_length\", \"petal_width\", \"species\"]\n",
        "data = pd.read_csv(url, header=None, names=columns)\n",
        "\n",
        "print(\"Missing data in each column:\")\n",
        "print(data.isnull().sum())\n",
        "\n",
        "data.fillna(data.mean(numeric_only=True), inplace=True)\n",
        "\n",
        "data.dropna(subset=[\"species\"], inplace=True)\n",
        "\n",
        "filtered_data = data[data[\"sepal_length\"] > 5]\n",
        "print(\"\\nRows where sepal_length > 5:\")\n",
        "print(filtered_data)\n",
        "\n",
        "data.rename(columns={\"sepal_length\": \"Sepal Length (cm)\", \"species\": \"Flower Species\"}, inplace=True)\n",
        "\n",
        "print(\"\\nCleaned dataset preview:\")\n",
        "print(data.head())\n",
        "print(f\"\\nThe dataset has {data.shape[0]} rows and {data.shape[1]} columns.\")\n",
        "print(\"\\nColumn names:\", data.columns.tolist())\n",
        "\n",
        "print(f\"\\nNumber of rows with Sepal Length > 5: {filtered_data.shape[0]}\")"
      ]
    },
    {
      "cell_type": "markdown",
      "source": [
        "1.\n",
        "There were 0 missing values. This is because the Iris dataset is a well-known teaching dataset which has already been cleaned up.\n",
        "\n",
        "2.\n",
        "The new column names are Sepal Length (cm), sepal_width, petal_length, petal_width, and Flower Species. They were changed so that they are less generic and are more descriptive.\n",
        "\n",
        "3.\n",
        "There are 118 rows with a sepal length greater than 5. This number is significant because it shows that most of the flowers in this dataset have longer sepals.\n",
        "\n",
        "4.\n",
        "Yes, because when asked to .fillna(data.mean()) it returned an error when it tried to calculate the mean on the text data in the species columns. The solution was to make sure it only looked at numeric columns.\n",
        "\n",
        "5.\n",
        "Longer sepals are frequently Iris-versicolor or Iris-virginica which demonstrates sepal length as a biological separator for species. I also find sepal length and petal length may be correlated which is interesting because it alludes to a biological relationship."
      ],
      "metadata": {
        "id": "YqV_jMzkoti0"
      }
    }
  ]
}