{
  "cells": [
    {
      "cell_type": "markdown",
      "metadata": {
        "id": "UXwB9rAZnveK"
      },
      "source": [
        "**Basics**"
      ]
    },
    {
      "cell_type": "markdown",
      "source": [
        "\n",
        "**Author**: Aaryan Samanta\n",
        "\n",
        "**Organization**: Legend College Preparatory\n",
        "\n",
        "**Date**: 2025\n",
        "\n",
        "**Title**: Basic Python Exercises\n",
        "\n",
        "**Version**: 1.0\n",
        "\n",
        "**Type**: Source Code\n",
        "\n",
        "**Adaptation details**: Based on classroom exercises\n",
        "\n",
        "**Description**: Basic Python Exercises\n",
        "\n",
        "\n",
        "\n",
        "---\n",
        "\n",
        "\n",
        "Developed as part of the AI Internship at Legend College Preparatory.\n",
        "Please note that it is a violation of school policy to copy and use this code without proper attribution and credit acknowledgement.\n",
        "Failing to do so can constitute plagiarism, even with small code snippets."
      ],
      "metadata": {
        "id": "636lI6jU27eH"
      }
    },
    {
      "cell_type": "code",
      "execution_count": null,
      "metadata": {
        "id": "7Y4yeZAPmlgp",
        "colab": {
          "base_uri": "https://localhost:8080/"
        },
        "outputId": "eba0fab2-3ff4-4fe2-feba-bb4268456e36"
      },
      "outputs": [
        {
          "output_type": "stream",
          "name": "stdout",
          "text": [
            "Hello, World!\n"
          ]
        }
      ],
      "source": [
        "#1. Print \"Hello, World!\"\n",
        "#Write a program that prints \"Hello, World!\" to the screen.\n",
        "\n",
        "#answer:\n",
        "print(\"Hello, World!\")\n",
        "\n",
        "\n"
      ]
    },
    {
      "cell_type": "code",
      "execution_count": null,
      "metadata": {
        "id": "4zFGzFJy__Nk"
      },
      "outputs": [],
      "source": [
        "#1.2 Assign and Print values\n",
        "#Write a program where you declare 2 variables (val1, val2), assign values to them,\n",
        "#then create a third variable named result which represents the sum val1 and val2\n",
        "#print result\n",
        "\n",
        "\n",
        "#answer:\n",
        "# Declare variables and assign values\n",
        "val1 = 10  # You can change this value\n",
        "val2 = 20  # You can change this value\n",
        "\n",
        "# Compute the sum\n",
        "result = val1 + val2\n",
        "\n",
        "# Print the result\n",
        "print(\"The sum of\", val1, \"and\", val2, \"is:\", result)\n",
        "\n"
      ]
    },
    {
      "cell_type": "code",
      "execution_count": null,
      "metadata": {
        "id": "oLeDJ4RSm5AT"
      },
      "outputs": [],
      "source": [
        "#2. Simple Math Operations\n",
        "#Create a program that asks the user for two numbers and then prints the sum, difference, product, and quotient of those numbers.\n",
        "\n",
        "\n",
        "# Ask the user for two numbers\n",
        "num1 = float(input(\"Enter the first number: \"))\n",
        "num2 = float(input(\"Enter the second number: \"))\n",
        "\n",
        "\n",
        "#answer:\n",
        "# Perform basic math operations\n",
        "sum_result = num1 + num2\n",
        "difference = num1 - num2\n",
        "product = num1 * num2\n",
        "\n",
        "# Handle division carefully to avoid division by zero\n",
        "if num2 != 0:\n",
        "    quotient = num1 / num2\n",
        "else:\n",
        "    quotient = \"Undefined (division by zero)\"\n",
        "\n",
        "# Print results\n",
        "print(\"\\nResults:\")\n",
        "print(f\"Sum: {sum_result}\")\n",
        "print(f\"Difference: {difference}\")\n",
        "print(f\"Product: {product}\")\n",
        "print(f\"Quotient: {quotient}\")\n"
      ]
    },
    {
      "cell_type": "code",
      "execution_count": null,
      "metadata": {
        "id": "IvJmICztm5CH"
      },
      "outputs": [],
      "source": [
        "#3. Even or Odd\n",
        "#Write a program that asks the user for a number and prints whether it's even or odd\n",
        "\n",
        "#answer:\n",
        "# Ask the user for a number\n",
        "num = int(input(\"Enter a number: \"))\n",
        "\n",
        "# Check if the number is even or odd\n",
        "if num % 2 == 0:\n",
        "    print(f\"{num} is an even number.\")\n",
        "else:\n",
        "    print(f\"{num} is an odd number.\")\n"
      ]
    },
    {
      "cell_type": "code",
      "execution_count": null,
      "metadata": {
        "id": "QSbtJa3-nO5-",
        "colab": {
          "base_uri": "https://localhost:8080/"
        },
        "outputId": "b1acfc7e-42c0-454d-dd10-6f4944dfea68"
      },
      "outputs": [
        {
          "output_type": "stream",
          "name": "stdout",
          "text": [
            "Enter temperature in Celsius: 100\n",
            "100.0°C is equal to 212.0°F\n"
          ]
        }
      ],
      "source": [
        "#4. Temperature Conversion\n",
        "#Create a program that converts Celsius to Fahrenheit. (F = C * 9/5 + 32)\n",
        "\n",
        "#answer:\n",
        "# Ask the user to enter the temperature in Celsius\n",
        "celsius = float(input(\"Enter temperature in Celsius: \"))\n",
        "\n",
        "# Convert Celsius to Fahrenheit\n",
        "fahrenheit = (celsius * 9/5) + 32\n",
        "\n",
        "# Print the result\n",
        "print(f\"{celsius}°C is equal to {fahrenheit}°F\")\n"
      ]
    },
    {
      "cell_type": "code",
      "execution_count": null,
      "metadata": {
        "id": "NSuBcFUKnc71"
      },
      "outputs": [],
      "source": [
        "#5. Simple Calculator\n",
        "#Make a basic calculator that can add, subtract, multiply, or divide based on user input.\n",
        "\n",
        "#answer:\n",
        "# Function to perform calculations\n",
        "def calculator():\n",
        "    # Ask the user to enter two numbers\n",
        "    num1 = float(input(\"Enter the first number: \"))\n",
        "    num2 = float(input(\"Enter the second number: \"))\n",
        "\n",
        "    # Ask the user to choose an operation\n",
        "    print(\"\\nChoose an operation:\")\n",
        "    print(\"1. Addition (+)\")\n",
        "    print(\"2. Subtraction (-)\")\n",
        "    print(\"3. Multiplication (*)\")\n",
        "    print(\"4. Division (/)\")\n",
        "\n",
        "    operation = input(\"Enter the operation (+, -, *, /): \")\n",
        "\n",
        "    # Perform the calculation based on user input\n",
        "    if operation == \"+\":\n",
        "        result = num1 + num2\n",
        "        print(f\"\\nResult: {num1} + {num2} = {result}\")\n",
        "    elif operation == \"-\":\n",
        "        result = num1 - num2\n",
        "        print(f\"\\nResult: {num1} - {num2} = {result}\")\n",
        "    elif operation == \"*\":\n",
        "        result = num1 * num2\n",
        "        print(f\"\\nResult: {num1} * {num2} = {result}\")\n",
        "    elif operation == \"/\":\n",
        "        if num2 != 0:\n",
        "            result = num1 / num2\n",
        "            print(f\"\\nResult: {num1} / {num2} = {result}\")\n",
        "        else:\n",
        "            print(\"\\nError: Division by zero is not allowed.\")\n",
        "    else:\n",
        "        print(\"\\nInvalid operation. Please enter +, -, *, or /.\")\n",
        "\n",
        "# Run the calculator function\n",
        "calculator()\n"
      ]
    },
    {
      "cell_type": "markdown",
      "metadata": {
        "id": "JLsKCOcNn79f"
      },
      "source": [
        "**Control Flow**"
      ]
    },
    {
      "cell_type": "code",
      "execution_count": null,
      "metadata": {
        "id": "zqgjP_zDoAhK",
        "colab": {
          "base_uri": "https://localhost:8080/"
        },
        "outputId": "6983d076-ea6d-46ce-884d-c48717a2bfb1"
      },
      "outputs": [
        {
          "output_type": "stream",
          "name": "stdout",
          "text": [
            "Guess a number between 1 and 10: 5\n",
            "Sorry, the correct number was 7. Better luck next time!\n"
          ]
        }
      ],
      "source": [
        "#6. Guess the Number\n",
        "#Write a program where the computer randomly selects a number between 1 and 10, and the user has to guess it.\n",
        "\n",
        "\n",
        "#answer:\n",
        "import random\n",
        "\n",
        "# Generate a random number between 1 and 10\n",
        "secret_number = random.randint(1, 10)\n",
        "\n",
        "# Ask the user to guess the number\n",
        "guess = int(input(\"Guess a number between 1 and 10: \"))\n",
        "\n",
        "# Check if the guess is correct\n",
        "if guess == secret_number:\n",
        "    print(\"Congratulations! You guessed the correct number!\")\n",
        "else:\n",
        "    print(f\"Sorry, the correct number was {secret_number}. Better luck next time!\")\n"
      ]
    },
    {
      "cell_type": "code",
      "execution_count": null,
      "metadata": {
        "id": "C6p3M0cdnsct"
      },
      "outputs": [],
      "source": [
        "#7. Age Checker\n",
        "#Write a program that asks the user for their age and then prints whether they are a child, teenager, or adult.\n",
        "\n",
        "\n",
        "#answer:\n",
        "# Ask the user for their age\n",
        "age = int(input(\"Enter your age: \"))\n",
        "\n",
        "# Determine the category based on age\n",
        "if age < 13:\n",
        "    print(\"You are a child.\")\n",
        "elif 13 <= age < 18:\n",
        "    print(\"You are a teenager.\")\n",
        "else:\n",
        "    print(\"You are an adult.\")\n"
      ]
    },
    {
      "cell_type": "code",
      "execution_count": null,
      "metadata": {
        "id": "PZssAL0KoLFg"
      },
      "outputs": [],
      "source": [
        "#8. FizzBuzz\n",
        "#Write a program that prints the numbers from 1 to 50. For multiples of 3, print \"Fizz\"; for multiples of 5, print \"Buzz\"; and for multiples of both, print \"FizzBuzz\".\n",
        "\n",
        "#answer:\n",
        "# Loop through numbers from 1 to 50\n",
        "for num in range(1, 51):\n",
        "    if num % 3 == 0 and num % 5 == 0:\n",
        "        print(\"FizzBuzz\")  # Multiples of both 3 and 5\n",
        "    elif num % 3 == 0:\n",
        "        print(\"Fizz\")  # Multiples of 3\n",
        "    elif num % 5 == 0:\n",
        "        print(\"Buzz\")  # Multiples of 5\n",
        "    else:\n",
        "        print(num)  # Print the number if not a multiple of 3 or 5\n",
        "\n"
      ]
    },
    {
      "cell_type": "code",
      "execution_count": null,
      "metadata": {
        "id": "M4p14qJboXrS"
      },
      "outputs": [],
      "source": [
        "#9. Simple Countdown\n",
        "#Create a program that counts down from 10 to 1 and prints \"Liftoff!\" at the end.\n",
        "\n",
        "\n",
        "#answer:\n",
        "import time  # Import time module for delay (optional)\n",
        "\n",
        "# Countdown from 10 to 1\n",
        "for num in range(10, 0, -1):\n",
        "    print(num)\n",
        "    time.sleep(1)  # Optional: Adds a 1-second delay between numbers for effect\n",
        "\n",
        "# Print liftoff message\n",
        "print(\"Liftoff! 🚀\")\n"
      ]
    },
    {
      "cell_type": "code",
      "execution_count": null,
      "metadata": {
        "id": "lPnV9hnEog0O"
      },
      "outputs": [],
      "source": [
        "#10. Multiplication Table\n",
        "#Write a program that prints the multiplication table for a number provided by the user.\n",
        "\n",
        "\n",
        "#answer:\n",
        "# Ask the user for a number\n",
        "num = int(input(\"Enter a number to generate its multiplication table: \"))\n",
        "\n",
        "# Print the multiplication table from 1 to 10\n",
        "print(f\"\\nMultiplication Table for {num}:\")\n",
        "for i in range(1, 11):\n",
        "    print(f\"{num} x {i} = {num * i}\")\n"
      ]
    },
    {
      "cell_type": "markdown",
      "metadata": {
        "id": "c1B9vXeRorfz"
      },
      "source": [
        "**Strings and Lists**"
      ]
    },
    {
      "cell_type": "code",
      "execution_count": null,
      "metadata": {
        "id": "Xcxe9D7Oovw1"
      },
      "outputs": [],
      "source": [
        "#11. Word Reversal\n",
        "#Write a program that asks the user for a word and then prints the word in reverse.\n",
        "\n",
        "\n",
        "#answer:\n",
        "# Ask the user for a word\n",
        "word = input(\"Enter a word: \")\n",
        "\n",
        "# Reverse the word using slicing\n",
        "reversed_word = word[::-1]\n",
        "\n",
        "# Print the reversed word\n",
        "print(f\"Reversed word: {reversed_word}\")\n",
        "\n"
      ]
    },
    {
      "cell_type": "code",
      "execution_count": null,
      "metadata": {
        "id": "qLA3OVmxo3Nu"
      },
      "outputs": [],
      "source": [
        "#12. List of Friends\n",
        "#Ask the user to input the names of their friends one by one, store them in a list, and then print out the list.\n",
        "\n",
        "\n",
        "#answer:\n",
        "# Initialize an empty list to store friends' names\n",
        "friends = []\n",
        "\n",
        "# Ask the user how many friends they want to enter\n",
        "num_friends = int(input(\"How many friends do you want to enter? \"))\n",
        "\n",
        "# Loop to collect friends' names\n",
        "for i in range(num_friends):\n",
        "    name = input(f\"Enter the name of friend {i+1}: \")\n",
        "    friends.append(name)  # Add the name to the list\n",
        "\n",
        "# Print the complete list of friends\n",
        "print(\"\\nList of friends:\")\n",
        "print(friends)\n"
      ]
    },
    {
      "cell_type": "code",
      "execution_count": null,
      "metadata": {
        "id": "7V8mIFC_o8My",
        "colab": {
          "base_uri": "https://localhost:8080/"
        },
        "outputId": "65488399-d7b2-4f63-caf1-0b5ba513de5d"
      },
      "outputs": [
        {
          "output_type": "stream",
          "name": "stdout",
          "text": [
            "Enter a string: carlos\n",
            "The number of vowels in the string is: 2\n"
          ]
        }
      ],
      "source": [
        "#13. Count Vowels\n",
        "#Create a program that counts the number of vowels in a string provided by the user.\n",
        "\n",
        "\n",
        "#answer:\n",
        "# Function to count vowels in a string\n",
        "def count_vowels(text):\n",
        "    vowels = \"aeiouAEIOU\"  # Define the vowels (both lowercase and uppercase)\n",
        "    count = sum(1 for char in text if char in vowels)  # Count occurrences of vowels\n",
        "    return count\n",
        "\n",
        "# Ask the user for input\n",
        "user_input = input(\"Enter a string: \")\n",
        "\n",
        "# Get the vowel count\n",
        "vowel_count = count_vowels(user_input)\n",
        "\n",
        "# Print the result\n",
        "print(f\"The number of vowels in the string is: {vowel_count}\")\n"
      ]
    },
    {
      "cell_type": "code",
      "execution_count": null,
      "metadata": {
        "id": "CU-OUHS_pAx-"
      },
      "outputs": [],
      "source": [
        "#14. Palindrome Check\n",
        "#Write a program that checks if a word provided by the user is a palindrome.\n",
        "\n",
        "\n",
        "#answer:\n",
        "# Function to check if a word is a palindrome\n",
        "def is_palindrome(word):\n",
        "    return word == word[::-1]  # Compare the word with its reversed version\n",
        "\n",
        "# Ask the user for a word\n",
        "user_word = input(\"Enter a word: \").lower()  # Convert to lowercase for case-insensitivity\n",
        "\n",
        "# Check if it's a palindrome and print the result\n",
        "if is_palindrome(user_word):\n",
        "    print(f\"'{user_word}' is a palindrome!\")\n",
        "else:\n",
        "    print(f\"'{user_word}' is not a palindrome.\")\n"
      ]
    },
    {
      "cell_type": "code",
      "execution_count": null,
      "metadata": {
        "id": "lO0m50JRpE9-"
      },
      "outputs": [],
      "source": [
        "#15. Remove Duplicates\n",
        "#Ask the user to enter a list of numbers and remove any duplicates from the list before printing it.\n",
        "\n",
        "\n",
        "#answer:\n",
        "# Ask the user to enter numbers separated by spaces\n",
        "numbers = input(\"Enter a list of numbers separated by spaces: \").split()\n",
        "\n",
        "# Convert to a set to remove duplicates, then back to a list\n",
        "unique_numbers = list(set(numbers))\n",
        "\n",
        "# Print the unique numbers\n",
        "print(\"\\nList without duplicates:\", unique_numbers)\n",
        "\n"
      ]
    },
    {
      "cell_type": "markdown",
      "metadata": {
        "id": "4nh7_nu_pKPa"
      },
      "source": [
        "**Functions and Loops**\n"
      ]
    },
    {
      "cell_type": "code",
      "execution_count": null,
      "metadata": {
        "id": "4D8WO9ejpNbK",
        "colab": {
          "base_uri": "https://localhost:8080/"
        },
        "outputId": "42b36c0a-ae3b-432c-d4ed-6eec4814c5f0"
      },
      "outputs": [
        {
          "output_type": "stream",
          "name": "stdout",
          "text": [
            "Enter a number: 15\n",
            "The factorial of 15 is: 1307674368000\n"
          ]
        }
      ],
      "source": [
        "#16. Factorial Finder\n",
        "#Write a function that calculates the factorial of a number provided by the user.\n",
        "\n",
        "\n",
        "#answer:\n",
        "# Function to calculate factorial\n",
        "def factorial(n):\n",
        "    if n < 0:\n",
        "        return \"Factorial is not defined for negative numbers.\"\n",
        "    elif n == 0 or n == 1:\n",
        "        return 1\n",
        "    else:\n",
        "        result = 1\n",
        "        for i in range(2, n + 1):\n",
        "            result *= i\n",
        "        return result\n",
        "\n",
        "# Ask the user for a number\n",
        "num = int(input(\"Enter a number: \"))\n",
        "\n",
        "# Calculate and print the factorial\n",
        "print(f\"The factorial of {num} is: {factorial(num)}\")\n"
      ]
    },
    {
      "cell_type": "code",
      "execution_count": null,
      "metadata": {
        "id": "4R4fiaZfpR8e"
      },
      "outputs": [],
      "source": [
        "#17. Prime Number Checker\n",
        "#Write a program that checks if a number provided by the user is prime.\n",
        "\n",
        "\n",
        "# Function to check if a number is prime\n",
        "def is_prime(n):\n",
        "    if n <= 1:\n",
        "        return False  # 0 and 1 are not prime\n",
        "    for i in range(2, int(n ** 0.5) + 1):  # Check divisibility up to sqrt(n)\n",
        "        if n % i == 0:\n",
        "            return False  # If divisible, it's not prime\n",
        "    return True  # If no divisors found, it's prime\n",
        "\n",
        "# Ask the user for a number\n",
        "num = int(input(\"Enter a number: \"))\n",
        "\n",
        "# Check and print result\n",
        "if is_prime(num):\n",
        "    print(f\"{num} is a prime number!\")\n",
        "else:\n",
        "    print(f\"{num} is not a prime number.\")\n"
      ]
    },
    {
      "cell_type": "code",
      "execution_count": null,
      "metadata": {
        "id": "CBeRPO21pU0a"
      },
      "outputs": [],
      "source": [
        "#18. Simple Password Generator\n",
        "#Create a program that generates a simple 8-character password using random letters and numbers.\n",
        "\n",
        "\n",
        "#answer:\n",
        "import random\n",
        "import string\n",
        "\n",
        "# Function to generate a random password\n",
        "def generate_password(length=8):\n",
        "    characters = string.ascii_letters + string.digits  # Letters (uppercase & lowercase) + digits\n",
        "    password = ''.join(random.choice(characters) for _ in range(length))  # Generate password\n",
        "    return password\n",
        "\n",
        "# Generate and print a random password\n",
        "print(\"Generated Password:\", generate_password())\n"
      ]
    },
    {
      "cell_type": "code",
      "execution_count": null,
      "metadata": {
        "id": "0od0z5Q2paxe"
      },
      "outputs": [],
      "source": [
        "#19 Average Calculator\n",
        "#Ask the user for 5 numbers and calculate the average.\n",
        "\n",
        "\n",
        "#answer:\n",
        "# Ask the user for 5 numbers and store them in a list\n",
        "numbers = []\n",
        "\n",
        "for i in range(5):\n",
        "    num = float(input(f\"Enter number {i+1}: \"))\n",
        "    numbers.append(num)\n",
        "\n",
        "# Calculate the average\n",
        "average = sum(numbers) / len(numbers)\n",
        "\n",
        "# Print the result\n",
        "print(f\"\\nThe average of the entered numbers is: {average}\")\n"
      ]
    },
    {
      "cell_type": "code",
      "execution_count": null,
      "metadata": {
        "id": "y2PlECh8pfQF"
      },
      "outputs": [],
      "source": [
        "#20 Find the Largest Number\n",
        "#Write a function that takes a list of numbers as input and returns the largest number in the list.\n",
        "\n",
        "\n",
        "#answer:\n",
        "# Function to find the largest number in a list\n",
        "def find_largest(numbers):\n",
        "    if not numbers:  # Check if the list is empty\n",
        "        return \"The list is empty.\"\n",
        "    return max(numbers)  # Use max() to find the largest number\n",
        "\n",
        "# Ask the user for numbers (comma-separated), convert to a list\n",
        "user_input = input(\"Enter numbers separated by spaces: \")\n",
        "num_list = list(map(float, user_input.split()))  # Convert input to a list of numbers\n",
        "\n",
        "# Get and print the largest number\n",
        "largest = find_largest(num_list)\n",
        "print(f\"The largest number is: {largest}\")\n"
      ]
    }
  ],
  "metadata": {
    "colab": {
      "provenance": []
    },
    "kernelspec": {
      "display_name": "Python 3 (ipykernel)",
      "language": "python",
      "name": "python3"
    },
    "language_info": {
      "codemirror_mode": {
        "name": "ipython",
        "version": 3
      },
      "file_extension": ".py",
      "mimetype": "text/x-python",
      "name": "python",
      "nbconvert_exporter": "python",
      "pygments_lexer": "ipython3",
      "version": "3.11.7"
    }
  },
  "nbformat": 4,
  "nbformat_minor": 0
}