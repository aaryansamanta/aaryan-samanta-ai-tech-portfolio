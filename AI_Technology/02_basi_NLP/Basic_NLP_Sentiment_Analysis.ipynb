{
  "cells": [
    {
      "cell_type": "markdown",
      "metadata": {
        "id": "UXwB9rAZnveK"
      },
      "source": [
        "**Basics**"
      ]
    },
    {
      "cell_type": "markdown",
      "source": [
        "\n",
        "**Author**: Aaryan Samanta\n",
        "\n",
        "**Organization**: Legend College Preparatory\n",
        "\n",
        "**Date**: 2025\n",
        "\n",
        "**Title**: NLP Sentiment Analysis\n",
        "\n",
        "**Version**: 1.0\n",
        "\n",
        "**Type**: Source Code\n",
        "\n",
        "**Adaptation details**: Based on classroom exercises\n",
        "\n",
        "**Description**: Basic Python NLP Exercises applying Sentiment Analysis\n",
        "\n",
        "\n",
        "\n",
        "---\n",
        "\n",
        "\n",
        "Developed as part of the AI Internship at Legend College Preparatory.\n",
        "Please note that it is a violation of school policy to copy and use this code without proper attribution and credit acknowledgement.\n",
        "Failing to do so can constitute plagiarism, even with small code snippets."
      ],
      "metadata": {
        "id": "636lI6jU27eH"
      }
    },
    {
      "cell_type": "code",
      "source": [
        "# Sentiment Analysis with TextBlob\n",
        "# -------------------------------\n",
        "# This program checks if each sentence is Positive, Negative, or Neutral.\n",
        "\n",
        "# Step 1: Install TextBlob if needed\n",
        "# pip install textblob\n",
        "\n",
        "from textblob import TextBlob\n",
        "\n",
        "# Step 2: Our text samples\n",
        "texts = [\n",
        "    \"I love this product! It's amazing.\",\n",
        "    \"This was the worst experience ever.\",\n",
        "    \"I'm not sure how I feel about this.\",\n",
        "    \"The service was excellent, and I had a great time.\",\n",
        "    \"This is okay, but it could be better.\"\n",
        "]\n",
        "\n",
        "# Step 3: Analyze each sentence\n",
        "for t in texts:\n",
        "    blob = TextBlob(t)\n",
        "    polarity = blob.sentiment.polarity  # from -1 (negative) to +1 (positive)\n",
        "\n",
        "    # Step 4: Decide the sentiment based on polarity\n",
        "    if polarity > 0:\n",
        "        sentiment = \"Positive\"\n",
        "    elif polarity < 0:\n",
        "        sentiment = \"Negative\"\n",
        "    else:\n",
        "        sentiment = \"Neutral\"\n",
        "\n",
        "    # Step 5: Print the results\n",
        "    print(f\"Text: {t}\")\n",
        "    print(f\"Polarity: {polarity:.2f} → Sentiment: {sentiment}\\n\")\n"
      ],
      "metadata": {
        "colab": {
          "base_uri": "https://localhost:8080/"
        },
        "id": "iVdSqTnE4A47",
        "outputId": "4cd6d24c-fe64-4acf-850e-cfc8a207195a"
      },
      "execution_count": 1,
      "outputs": [
        {
          "output_type": "stream",
          "name": "stdout",
          "text": [
            "Text: I love this product! It's amazing.\n",
            "Polarity: 0.61 → Sentiment: Positive\n",
            "\n",
            "Text: This was the worst experience ever.\n",
            "Polarity: -1.00 → Sentiment: Negative\n",
            "\n",
            "Text: I'm not sure how I feel about this.\n",
            "Polarity: -0.25 → Sentiment: Negative\n",
            "\n",
            "Text: The service was excellent, and I had a great time.\n",
            "Polarity: 0.90 → Sentiment: Positive\n",
            "\n",
            "Text: This is okay, but it could be better.\n",
            "Polarity: 0.50 → Sentiment: Positive\n",
            "\n"
          ]
        }
      ]
    }
  ],
  "metadata": {
    "colab": {
      "provenance": []
    },
    "kernelspec": {
      "display_name": "Python 3 (ipykernel)",
      "language": "python",
      "name": "python3"
    },
    "language_info": {
      "codemirror_mode": {
        "name": "ipython",
        "version": 3
      },
      "file_extension": ".py",
      "mimetype": "text/x-python",
      "name": "python",
      "nbconvert_exporter": "python",
      "pygments_lexer": "ipython3",
      "version": "3.11.7"
    }
  },
  "nbformat": 4,
  "nbformat_minor": 0
}